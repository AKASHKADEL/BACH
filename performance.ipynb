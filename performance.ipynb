{
 "cells": [
  {
   "cell_type": "code",
   "execution_count": 1,
   "metadata": {},
   "outputs": [
    {
     "name": "stderr",
     "output_type": "stream",
     "text": [
      "Using TensorFlow backend.\n"
     ]
    }
   ],
   "source": [
    "from keras.models import load_model\n",
    "import os\n",
    "import glob\n",
    "import numpy as np\n",
    "from utils import misc_utils as mu\n",
    "\n",
    "model = load_model('best_model.h5')"
   ]
  },
  {
   "cell_type": "code",
   "execution_count": 2,
   "metadata": {},
   "outputs": [],
   "source": [
    "### change me ###\n",
    "data_dir = '/media/peter/HDD 1/ICIAR2018_BACH_Challenge/Test_set'"
   ]
  },
  {
   "cell_type": "code",
   "execution_count": 3,
   "metadata": {},
   "outputs": [
    {
     "name": "stdout",
     "output_type": "stream",
     "text": [
      "Mean patch accuracy = 0.634375\n",
      "Mean image accuracy = 0.6875\n"
     ]
    }
   ],
   "source": [
    "classes = ('Benign', 'InSitu', 'Invasive', 'Normal')\n",
    "labels = {'Benign': 0, 'InSitu': 1, 'Invasive': 2, 'Normal': 3}\n",
    "\n",
    "n_patch = 0\n",
    "n_ims = 0\n",
    "mean_patch_accuracy = 0.0\n",
    "mean_image_accuracy = 0.0\n",
    "\n",
    "for c in classes:\n",
    "    directory = os.path.join(data_dir, c, '*')\n",
    "    files = glob.glob(directory)\n",
    "    for f in files:\n",
    "        n_ims += 1\n",
    "        im = mu.read_image(f)\n",
    "        patch_predictions = []\n",
    "        for i in range(3):\n",
    "            for j in range(4):\n",
    "                n_patch += 1\n",
    "                patch = im[i * 512:(i + 1) * 512, j * 512:(j + 1) * 512, :]\n",
    "                patch = np.reshape(patch, (1, 512, 512, 3))\n",
    "                predicted = model.predict(patch)\n",
    "                patch_class_prediction = np.argmax(predicted)\n",
    "                patch_predictions.append(patch_class_prediction)\n",
    "                if patch_class_prediction == labels[c]:\n",
    "                    mean_patch_accuracy += 1\n",
    "        im_class_prediction = max(set(patch_predictions), key=patch_predictions.count)\n",
    "        if im_class_prediction == labels[c]:\n",
    "            mean_image_accuracy += 1\n",
    "\n",
    "mean_patch_accuracy /= n_patch\n",
    "mean_image_accuracy /= n_ims\n",
    "\n",
    "print('Mean patch accuracy = {}'.format(mean_patch_accuracy))\n",
    "print('Mean image accuracy = {}'.format(mean_image_accuracy))\n"
   ]
  },
  {
   "cell_type": "code",
   "execution_count": null,
   "metadata": {},
   "outputs": [],
   "source": []
  },
  {
   "cell_type": "code",
   "execution_count": null,
   "metadata": {},
   "outputs": [],
   "source": []
  }
 ],
 "metadata": {
  "kernelspec": {
   "display_name": "Python 3",
   "language": "python",
   "name": "python3"
  },
  "language_info": {
   "codemirror_mode": {
    "name": "ipython",
    "version": 3
   },
   "file_extension": ".py",
   "mimetype": "text/x-python",
   "name": "python",
   "nbconvert_exporter": "python",
   "pygments_lexer": "ipython3",
   "version": "3.5.4"
  }
 },
 "nbformat": 4,
 "nbformat_minor": 2
}
